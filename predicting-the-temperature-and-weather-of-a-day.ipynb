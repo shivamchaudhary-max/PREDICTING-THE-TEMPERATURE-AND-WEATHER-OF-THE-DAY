{
 "cells": [
  {
   "cell_type": "code",
   "execution_count": 1,
   "id": "fbab194d",
   "metadata": {
    "execution": {
     "iopub.execute_input": "2022-01-20T15:40:36.308727Z",
     "iopub.status.busy": "2022-01-20T15:40:36.307418Z",
     "iopub.status.idle": "2022-01-20T15:40:36.318784Z",
     "shell.execute_reply": "2022-01-20T15:40:36.319406Z",
     "shell.execute_reply.started": "2022-01-20T15:38:06.695054Z"
    },
    "papermill": {
     "duration": 0.024885,
     "end_time": "2022-01-20T15:40:36.319814",
     "exception": false,
     "start_time": "2022-01-20T15:40:36.294929",
     "status": "completed"
    },
    "tags": []
   },
   "outputs": [],
   "source": [
    "# Assigning features and label variables\n",
    "weather=['Sunny','Sunny','Overcast','Rainy','Rainy','Rainy','Overcast','Sunny','Sunny',\n",
    "'Rainy','Sunny','Overcast','Overcast','Rainy']\n",
    "temp=['Hot','Hot','Hot','Mild','Cool','Cool','Cool','Mild','Cool','Mild','Mild','Mild','Hot','Mild']\n",
    "\n",
    "play=['No','No','Yes','Yes','Yes','No','Yes','No','Yes','Yes','Yes','Yes','Yes','No']\n",
    "#predicting to play according to weather"
   ]
  },
  {
   "cell_type": "code",
   "execution_count": 2,
   "id": "e5f43b43",
   "metadata": {
    "execution": {
     "iopub.execute_input": "2022-01-20T15:40:36.340064Z",
     "iopub.status.busy": "2022-01-20T15:40:36.339353Z",
     "iopub.status.idle": "2022-01-20T15:40:37.522166Z",
     "shell.execute_reply": "2022-01-20T15:40:37.521464Z",
     "shell.execute_reply.started": "2022-01-20T15:38:23.732529Z"
    },
    "papermill": {
     "duration": 1.193019,
     "end_time": "2022-01-20T15:40:37.522335",
     "exception": false,
     "start_time": "2022-01-20T15:40:36.329316",
     "status": "completed"
    },
    "tags": []
   },
   "outputs": [
    {
     "name": "stdout",
     "output_type": "stream",
     "text": [
      "[2 2 0 1 1 1 0 2 2 1 2 0 0 1]\n"
     ]
    }
   ],
   "source": [
    "# Import LabelEncoder\n",
    "from sklearn import preprocessing\n",
    "#creating labelEncoder\n",
    "le = preprocessing.LabelEncoder()\n",
    "# Converting string labels into numbers.\n",
    "wheather_encoded=le.fit_transform(weather)\n",
    "print (wheather_encoded)"
   ]
  },
  {
   "cell_type": "code",
   "execution_count": 3,
   "id": "b4df8ef8",
   "metadata": {
    "execution": {
     "iopub.execute_input": "2022-01-20T15:40:37.543135Z",
     "iopub.status.busy": "2022-01-20T15:40:37.541945Z",
     "iopub.status.idle": "2022-01-20T15:40:37.548810Z",
     "shell.execute_reply": "2022-01-20T15:40:37.549451Z",
     "shell.execute_reply.started": "2022-01-20T15:38:38.968525Z"
    },
    "papermill": {
     "duration": 0.019172,
     "end_time": "2022-01-20T15:40:37.549657",
     "exception": false,
     "start_time": "2022-01-20T15:40:37.530485",
     "status": "completed"
    },
    "tags": []
   },
   "outputs": [
    {
     "name": "stdout",
     "output_type": "stream",
     "text": [
      "Temp: [1 1 1 2 0 0 0 2 0 2 2 2 1 2]\n",
      "Play: [0 0 1 1 1 0 1 0 1 1 1 1 1 0]\n"
     ]
    }
   ],
   "source": [
    "# Converting string labels into numbers\n",
    "temp_encoded=le.fit_transform(temp)\n",
    "label=le.fit_transform(play)\n",
    "print (\"Temp:\",temp_encoded)\n",
    "print (\"Play:\",label)"
   ]
  },
  {
   "cell_type": "code",
   "execution_count": 4,
   "id": "7b7b55ec",
   "metadata": {
    "execution": {
     "iopub.execute_input": "2022-01-20T15:40:37.570910Z",
     "iopub.status.busy": "2022-01-20T15:40:37.569591Z",
     "iopub.status.idle": "2022-01-20T15:40:37.575839Z",
     "shell.execute_reply": "2022-01-20T15:40:37.575088Z",
     "shell.execute_reply.started": "2022-01-20T15:38:58.142007Z"
    },
    "papermill": {
     "duration": 0.018469,
     "end_time": "2022-01-20T15:40:37.576005",
     "exception": false,
     "start_time": "2022-01-20T15:40:37.557536",
     "status": "completed"
    },
    "tags": []
   },
   "outputs": [
    {
     "name": "stdout",
     "output_type": "stream",
     "text": [
      "[(2, 1), (2, 1), (0, 1), (1, 2), (1, 0), (1, 0), (0, 0), (2, 2), (2, 0), (1, 2), (2, 2), (0, 2), (0, 1), (1, 2)]\n"
     ]
    }
   ],
   "source": [
    "#Combinig weather and temp into single listof tuples\n",
    "features=list(zip(wheather_encoded,temp_encoded))\n",
    "print (features)"
   ]
  },
  {
   "cell_type": "code",
   "execution_count": 5,
   "id": "3086430f",
   "metadata": {
    "execution": {
     "iopub.execute_input": "2022-01-20T15:40:37.599311Z",
     "iopub.status.busy": "2022-01-20T15:40:37.598530Z",
     "iopub.status.idle": "2022-01-20T15:40:37.612773Z",
     "shell.execute_reply": "2022-01-20T15:40:37.613350Z",
     "shell.execute_reply.started": "2022-01-20T15:39:17.766095Z"
    },
    "papermill": {
     "duration": 0.02907,
     "end_time": "2022-01-20T15:40:37.613564",
     "exception": false,
     "start_time": "2022-01-20T15:40:37.584494",
     "status": "completed"
    },
    "tags": []
   },
   "outputs": [
    {
     "data": {
      "text/plain": [
       "GaussianNB()"
      ]
     },
     "execution_count": 5,
     "metadata": {},
     "output_type": "execute_result"
    }
   ],
   "source": [
    "#Import Gaussian Naive Bayes model\n",
    "from sklearn.naive_bayes import GaussianNB\n",
    "\n",
    "#Create a Gaussian Classifier\n",
    "model = GaussianNB()\n",
    "\n",
    "# Train the model using the training sets\n",
    "model.fit(features,label)"
   ]
  },
  {
   "cell_type": "code",
   "execution_count": 6,
   "id": "b9770abf",
   "metadata": {
    "execution": {
     "iopub.execute_input": "2022-01-20T15:40:37.638638Z",
     "iopub.status.busy": "2022-01-20T15:40:37.637752Z",
     "iopub.status.idle": "2022-01-20T15:40:37.641236Z",
     "shell.execute_reply": "2022-01-20T15:40:37.642132Z",
     "shell.execute_reply.started": "2022-01-20T15:39:29.112248Z"
    },
    "papermill": {
     "duration": 0.02021,
     "end_time": "2022-01-20T15:40:37.642399",
     "exception": false,
     "start_time": "2022-01-20T15:40:37.622189",
     "status": "completed"
    },
    "tags": []
   },
   "outputs": [
    {
     "name": "stdout",
     "output_type": "stream",
     "text": [
      "Predicted Value: [0]\n"
     ]
    }
   ],
   "source": [
    "#Predict Output\n",
    "predicted= model.predict([[2,1]]) # 0:Overcast, 2:Mild\n",
    "print(\"Predicted Value:\", predicted)"
   ]
  },
  {
   "cell_type": "code",
   "execution_count": null,
   "id": "b7ec9081",
   "metadata": {
    "papermill": {
     "duration": 0.008593,
     "end_time": "2022-01-20T15:40:37.660942",
     "exception": false,
     "start_time": "2022-01-20T15:40:37.652349",
     "status": "completed"
    },
    "tags": []
   },
   "outputs": [],
   "source": []
  }
 ],
 "metadata": {
  "kernelspec": {
   "display_name": "Python 3",
   "language": "python",
   "name": "python3"
  },
  "language_info": {
   "codemirror_mode": {
    "name": "ipython",
    "version": 3
   },
   "file_extension": ".py",
   "mimetype": "text/x-python",
   "name": "python",
   "nbconvert_exporter": "python",
   "pygments_lexer": "ipython3",
   "version": "3.7.12"
  },
  "papermill": {
   "default_parameters": {},
   "duration": 13.928409,
   "end_time": "2022-01-20T15:40:38.684176",
   "environment_variables": {},
   "exception": null,
   "input_path": "__notebook__.ipynb",
   "output_path": "__notebook__.ipynb",
   "parameters": {},
   "start_time": "2022-01-20T15:40:24.755767",
   "version": "2.3.3"
  }
 },
 "nbformat": 4,
 "nbformat_minor": 5
}
